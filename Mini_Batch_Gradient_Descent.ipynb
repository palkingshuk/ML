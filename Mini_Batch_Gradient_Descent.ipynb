{
  "nbformat": 4,
  "nbformat_minor": 0,
  "metadata": {
    "colab": {
      "provenance": []
    },
    "kernelspec": {
      "name": "python3",
      "display_name": "Python 3"
    },
    "language_info": {
      "name": "python"
    }
  },
  "cells": [
    {
      "cell_type": "code",
      "execution_count": 1,
      "metadata": {
        "id": "rmTcZMBimAnl"
      },
      "outputs": [],
      "source": [
        "\n",
        "\n",
        "import numpy as np\n",
        "import pandas as pd\n",
        "import matplotlib.pyplot as plt\n",
        "import math\n",
        "from sklearn.model_selection import train_test_split\n",
        "from sklearn.metrics import r2_score\n",
        "from sklearn.linear_model import LinearRegression\n"
      ]
    },
    {
      "cell_type": "code",
      "source": [
        "from sklearn.datasets import load_diabetes\n",
        "import random"
      ],
      "metadata": {
        "id": "h4T5N7dZmNB5"
      },
      "execution_count": 11,
      "outputs": []
    },
    {
      "cell_type": "code",
      "source": [
        "X,y = load_diabetes(return_X_y=True)"
      ],
      "metadata": {
        "id": "xV2NaKR7mO5P"
      },
      "execution_count": 29,
      "outputs": []
    },
    {
      "cell_type": "code",
      "source": [
        "print(X.shape)\n",
        "y.shape"
      ],
      "metadata": {
        "colab": {
          "base_uri": "https://localhost:8080/"
        },
        "id": "kIs4rwaemRbl",
        "outputId": "d277fb91-18bf-41fe-bd67-db6b9f0b89ac"
      },
      "execution_count": 30,
      "outputs": [
        {
          "output_type": "stream",
          "name": "stdout",
          "text": [
            "(442, 10)\n"
          ]
        },
        {
          "output_type": "execute_result",
          "data": {
            "text/plain": [
              "(442,)"
            ]
          },
          "metadata": {},
          "execution_count": 30
        }
      ]
    },
    {
      "cell_type": "code",
      "source": [
        "\n",
        "X_train, X_test, y_train, y_test = train_test_split(X, y, test_size=0.2, random_state=42)\n",
        "print(X_train.shape, X_test.shape, y_train.shape, y_test.shape)\n"
      ],
      "metadata": {
        "colab": {
          "base_uri": "https://localhost:8080/"
        },
        "id": "yDYw_QQTmTpq",
        "outputId": "c37a4ae5-365b-4630-f5ff-2cac4feca63c"
      },
      "execution_count": 31,
      "outputs": [
        {
          "output_type": "stream",
          "name": "stdout",
          "text": [
            "(353, 10) (89, 10) (353,) (89,)\n"
          ]
        }
      ]
    },
    {
      "cell_type": "code",
      "source": [
        "reg = LinearRegression()\n",
        "reg.fit(X_train, y_train)\n",
        "y_hat = reg.predict(X_test)\n",
        "print(r2_score(y_test, y_hat), f\"\\nCoef: {reg.coef_}\\nInercept: {reg.intercept_} \")"
      ],
      "metadata": {
        "colab": {
          "base_uri": "https://localhost:8080/"
        },
        "id": "BFWA9PtsmVLZ",
        "outputId": "085de742-aa40-4aa4-b72a-5a3ca51eede5"
      },
      "execution_count": 7,
      "outputs": [
        {
          "output_type": "stream",
          "name": "stdout",
          "text": [
            "0.4526027629719195 \n",
            "Coef: [  37.90402135 -241.96436231  542.42875852  347.70384391 -931.48884588\n",
            "  518.06227698  163.41998299  275.31790158  736.1988589    48.67065743]\n",
            "Inercept: 151.34560453985995 \n"
          ]
        }
      ]
    },
    {
      "cell_type": "code",
      "source": [
        "class Mini_Batch_GRD:\n",
        "    def __init__(self,batch_size=10,learning_rate=0.01,epochs=100):\n",
        "      self.learning_rate = learning_rate\n",
        "      self.epochs = epochs\n",
        "      self.batch_size = batch_size\n",
        "      self.coefficients = None\n",
        "      self.intercept = None\n",
        "\n",
        "    def fit(self,X_train,y_train):\n",
        "      self.intercept = 0\n",
        "      self.coefficients = np.ones(X_train.shape[1])\n",
        "      no_batch = X_train.shape[0] // self.batch_size\n",
        "      for _ in range(self.epochs):\n",
        "        for i in range(no_batch):\n",
        "          rand_indx = random.sample(range(X_train.shape[0]),self.batch_size)\n",
        "          y_hat = np.dot(X_train[rand_indx],self.coefficients) + self.intercept\n",
        "\n",
        "          loss_slope_intercept = -2 * np.mean(y_train[rand_indx] - y_hat)\n",
        "          self.intercept = self.intercept - self.learning_rate * loss_slope_intercept\n",
        "\n",
        "          loss_slope_coefficients = -2 * np.dot((y_train[rand_indx] - y_hat) , X_train[rand_indx])\n",
        "          self.coefficients = self.coefficients - self.learning_rate * loss_slope_coefficients\n",
        "          # print(f'''coeffs size: {self.coefficients.shape} ,y_hat:{y_hat.shape} ,coeff:{loss_slope_coefficients.shape}, intercept: {loss_slope_intercept.shape}''')\n",
        "\n",
        "      print(self.intercept,self.coefficients)\n",
        "\n",
        "    def predict(self,X_test):\n",
        "      return np.dot(X_test,self.coefficients) + self.intercept\n",
        "\n",
        "\n"
      ],
      "metadata": {
        "id": "ecVWr_ZumW2K"
      },
      "execution_count": 68,
      "outputs": []
    },
    {
      "cell_type": "code",
      "source": [
        "sgd = Mini_Batch_GRD()\n",
        "sgd.fit(X_train,y_train)\n",
        "y_hat = sgd.predict(X_test)\n",
        "# X_train[0].reshape(1,10).shape"
      ],
      "metadata": {
        "colab": {
          "base_uri": "https://localhost:8080/"
        },
        "collapsed": true,
        "id": "r6TzrUi6mZdD",
        "outputId": "863d0f93-8887-406b-cdcd-27fe493864f0"
      },
      "execution_count": 69,
      "outputs": [
        {
          "output_type": "stream",
          "name": "stdout",
          "text": [
            "152.5651590098964 [  54.11935315 -171.12031524  467.23496806  312.8352582   -48.0850779\n",
            "  -94.37260518 -207.58605879  141.83636359  343.7263414   129.44242951]\n"
          ]
        }
      ]
    },
    {
      "cell_type": "code",
      "source": [
        "print(r2_score(y_test, y_hat))"
      ],
      "metadata": {
        "colab": {
          "base_uri": "https://localhost:8080/"
        },
        "id": "OTtkdkAKmbFf",
        "outputId": "e95b25f7-5131-4d06-a3b5-c4e1ac3ecb8c"
      },
      "execution_count": 70,
      "outputs": [
        {
          "output_type": "stream",
          "name": "stdout",
          "text": [
            "0.4586059117413973\n"
          ]
        }
      ]
    }
  ]
}